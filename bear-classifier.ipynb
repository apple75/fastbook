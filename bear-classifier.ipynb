{
 "cells": [
  {
   "cell_type": "code",
   "execution_count": 50,
   "metadata": {},
   "outputs": [
    {
     "name": "stderr",
     "output_type": "stream",
     "text": [
      "'[' �����ڲ����ⲿ���Ҳ���ǿ����еĳ���\n",
      "���������ļ���\n"
     ]
    }
   ],
   "source": [
    "#hide\n",
    "! [ -e /content ] && pip install -Uqq fastbook\n",
    "import fastbook\n",
    "fastbook.setup_book()"
   ]
  },
  {
   "cell_type": "code",
   "execution_count": 51,
   "metadata": {},
   "outputs": [],
   "source": [
    "#hide\n",
    "from fastbook import *\n",
    "from fastai.vision.widgets import *"
   ]
  },
  {
   "cell_type": "code",
   "execution_count": 52,
   "metadata": {},
   "outputs": [],
   "source": [
    "from fastai.vision import *\n",
    "import os\n",
    "# 假设 learn 是你的学习对象\n",
    "# learn = ...\n",
    "\n",
    "# 指定保存模型的目录路径\n",
    "export_dir = 'models/'\n",
    "\n",
    "# 指定导出模型的文件名\n",
    "model_filename = 'bears_classify.pkl'\n",
    "\n",
    "# 完整的文件路径\n",
    "full_path = os.path.join(export_dir, model_filename)\n",
    "learn_inf = load_learner(full_path)"
   ]
  },
  {
   "cell_type": "code",
   "execution_count": 53,
   "metadata": {},
   "outputs": [],
   "source": [
    "#hide_output\n",
    "#btn_upload = widgets.FileUpload()\n",
    "#btn_upload"
   ]
  },
  {
   "cell_type": "code",
   "execution_count": 54,
   "metadata": {},
   "outputs": [],
   "source": [
    "#uploaded_file = btn_upload.value\n",
    "\n",
    "# 检查是否有文件被上传\n",
    "#if uploaded_file:\n",
    "    # uploaded_file 是一个字典，其中包含上传文件的信息\n",
    "    # 我们可以通过 'content' 键来获取文件的二进制内容\n",
    "#    file_content = uploaded_file[-1]['content']  # 获取最后一个文件的内容\n",
    "\n",
    "    # 使用 io.BytesIO 创建一个文件类对象\n",
    "#    file_like_object = io.BytesIO(file_content)\n",
    "\n",
    "    # 使用 PIL 打开图像文件\n",
    "#    img = Image.open(file_like_object)\n",
    "\n",
    "    # 现在 img 是一个 PILImage 对象，你可以对其进行操作\n",
    "    # 例如，显示图像\n",
    "#    img.show()"
   ]
  },
  {
   "cell_type": "code",
   "execution_count": 55,
   "metadata": {},
   "outputs": [],
   "source": [
    "#hide_output\n",
    "out_pl = widgets.Output()\n",
    "out_pl.clear_output()\n",
    "#with out_pl: display(img.to_thumb(128,128))\n",
    "#out_pl"
   ]
  },
  {
   "cell_type": "code",
   "execution_count": 56,
   "metadata": {},
   "outputs": [
    {
     "ename": "TypeError",
     "evalue": "Learner.predict() missing 1 required positional argument: 'item'",
     "output_type": "error",
     "traceback": [
      "\u001b[1;31m---------------------------------------------------------------------------\u001b[0m",
      "\u001b[1;31mTypeError\u001b[0m                                 Traceback (most recent call last)",
      "Cell \u001b[1;32mIn[56], line 1\u001b[0m\n\u001b[1;32m----> 1\u001b[0m pred,pred_idx,probs \u001b[38;5;241m=\u001b[39m learn_inf\u001b[38;5;241m.\u001b[39mpredict()\n",
      "\u001b[1;31mTypeError\u001b[0m: Learner.predict() missing 1 required positional argument: 'item'"
     ]
    }
   ],
   "source": [
    "pred,pred_idx,probs = learn_inf.predict(img)"
   ]
  },
  {
   "cell_type": "code",
   "execution_count": 42,
   "metadata": {},
   "outputs": [
    {
     "ename": "NameError",
     "evalue": "name 'pred' is not defined",
     "output_type": "error",
     "traceback": [
      "\u001b[1;31m---------------------------------------------------------------------------\u001b[0m",
      "\u001b[1;31mNameError\u001b[0m                                 Traceback (most recent call last)",
      "Cell \u001b[1;32mIn[42], line 3\u001b[0m\n\u001b[0;32m      1\u001b[0m \u001b[38;5;66;03m#hide_output\u001b[39;00m\n\u001b[0;32m      2\u001b[0m lbl_pred \u001b[38;5;241m=\u001b[39m widgets\u001b[38;5;241m.\u001b[39mLabel()\n\u001b[1;32m----> 3\u001b[0m lbl_pred\u001b[38;5;241m.\u001b[39mvalue \u001b[38;5;241m=\u001b[39m \u001b[38;5;124mf\u001b[39m\u001b[38;5;124m'\u001b[39m\u001b[38;5;124mPrediction: \u001b[39m\u001b[38;5;132;01m{\u001b[39;00mpred\u001b[38;5;132;01m}\u001b[39;00m\u001b[38;5;124m; Probability: \u001b[39m\u001b[38;5;132;01m{\u001b[39;00mprobs[pred_idx]\u001b[38;5;132;01m:\u001b[39;00m\u001b[38;5;124m.04f\u001b[39m\u001b[38;5;132;01m}\u001b[39;00m\u001b[38;5;124m'\u001b[39m\n",
      "\u001b[1;31mNameError\u001b[0m: name 'pred' is not defined"
     ]
    }
   ],
   "source": [
    "#hide_output\n",
    "lbl_pred = widgets.Label()\n",
    "lbl_pred.value = f'Prediction: {pred}; Probability: {probs[pred_idx]:.04f}'\n",
    "#lbl_pred"
   ]
  },
  {
   "cell_type": "code",
   "execution_count": 31,
   "metadata": {},
   "outputs": [],
   "source": [
    "#hide_output\n",
    "btn_run = widgets.Button(description='Classify')\n",
    "#btn_run"
   ]
  },
  {
   "cell_type": "code",
   "execution_count": 32,
   "metadata": {},
   "outputs": [],
   "source": [
    "#def on_click_classify(change):\n",
    "#    img = PILImage.create(btn_upload.data[-1])\n",
    "#    out_pl.clear_output()\n",
    "#    with out_pl: display(img.to_thumb(128,128))\n",
    "#    pred,pred_idx,probs = learn_inf.predict(img)\n",
    "#    lbl_pred.value = f'Prediction: {pred}; Probability: {probs[pred_idx]:.04f}'\n",
    "\n",
    "#btn_run.on_click(on_click_classify)\n",
    "\n",
    "from PIL import Image\n",
    "import io\n",
    "from IPython.display import display, clear_output\n",
    "from ipywidgets import FileUpload, widgets\n",
    "\n",
    "# 假设你已经定义了 learn_inf, out_pl, lbl_pred, btn_run 等变量\n",
    "\n",
    "def on_click_classify(change):\n",
    "    # 检查是否有文件被上传\n",
    "    if btn_upload.value:\n",
    "        # btn_upload.value 是一个列表，其中包含上传文件的信息\n",
    "        # 我们可以通过索引来获取最后一个文件的信息\n",
    "        file_info = btn_upload.value[-1]  # 获取最后一个文件的信息\n",
    "\n",
    "        # file_info 是一个字典，其中包含文件的二进制内容\n",
    "        file_content = file_info['content']  # 获取文件的二进制内容\n",
    "\n",
    "        # 使用 io.BytesIO 创建一个文件类对象\n",
    "        file_like_object = io.BytesIO(file_content)\n",
    "\n",
    "        # 使用 PIL 打开图像文件\n",
    "        img = Image.open(file_like_object)\n",
    "\n",
    "        # 清除输出区域\n",
    "        out_pl.clear_output()\n",
    "\n",
    "        # 在输出区域显示图像\n",
    "        with out_pl: \n",
    "            display(img.resize((128, 128)))  # 使用 resize 而不是 to_thumb\n",
    "\n",
    "        # 假设 learn_inf.predict 接受一个 PILImage 对象并返回预测结果\n",
    "        pred, pred_idx, probs = learn_inf.predict(img)\n",
    "        lbl_pred.value = f'Prediction: {pred}; Probability: {probs[pred_idx]:.04f}'\n",
    "\n",
    "# 将 on_click_classify 函数绑定到按钮的点击事件\n",
    "btn_run.on_click(on_click_classify)"
   ]
  },
  {
   "cell_type": "code",
   "execution_count": 33,
   "metadata": {},
   "outputs": [],
   "source": [
    "#hide\n",
    "#Putting back btn_upload to a widget for next cell\n",
    "btn_upload = widgets.FileUpload()"
   ]
  },
  {
   "cell_type": "code",
   "execution_count": 34,
   "metadata": {},
   "outputs": [
    {
     "ename": "NameError",
     "evalue": "name 'lbl_pred' is not defined",
     "output_type": "error",
     "traceback": [
      "\u001b[1;31m---------------------------------------------------------------------------\u001b[0m",
      "\u001b[1;31mNameError\u001b[0m                                 Traceback (most recent call last)",
      "Cell \u001b[1;32mIn[34], line 3\u001b[0m\n\u001b[0;32m      1\u001b[0m \u001b[38;5;66;03m#hide_output\u001b[39;00m\n\u001b[0;32m      2\u001b[0m VBox([widgets\u001b[38;5;241m.\u001b[39mLabel(\u001b[38;5;124m'\u001b[39m\u001b[38;5;124mSelect your bear!\u001b[39m\u001b[38;5;124m'\u001b[39m),\n\u001b[1;32m----> 3\u001b[0m       btn_upload, btn_run, out_pl, lbl_pred])\n",
      "\u001b[1;31mNameError\u001b[0m: name 'lbl_pred' is not defined"
     ]
    }
   ],
   "source": [
    "#hide_output\n",
    "VBox([widgets.Label('Select your bear!'),\n",
    "      btn_upload, btn_run, out_pl, lbl_pred])"
   ]
  },
  {
   "cell_type": "code",
   "execution_count": null,
   "metadata": {},
   "outputs": [],
   "source": [
    "#hide\n",
    "!pip install voila\n",
    "!jupyter serverextension enable --sys-prefix voila"
   ]
  }
 ],
 "metadata": {
  "kernelspec": {
   "display_name": "fastai",
   "language": "python",
   "name": "python3"
  },
  "language_info": {
   "codemirror_mode": {
    "name": "ipython",
    "version": 3
   },
   "file_extension": ".py",
   "mimetype": "text/x-python",
   "name": "python",
   "nbconvert_exporter": "python",
   "pygments_lexer": "ipython3",
   "version": "3.12.7"
  }
 },
 "nbformat": 4,
 "nbformat_minor": 2
}
