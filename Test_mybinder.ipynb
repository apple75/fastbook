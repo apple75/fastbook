{
 "cells": [
  {
   "cell_type": "code",
   "execution_count": null,
   "metadata": {},
   "outputs": [],
   "source": [
    "https://mybinder.org/v2/gh/apple75/fastbook/blob/master/HEAD?urlpath=%2Fvoila%2Frender%2Fbear-classifier.ipynb"
   ]
  },
  {
   "cell_type": "markdown",
   "metadata": {},
   "source": [
    "https://mybinder.org/v2/gh/apple75/fastbook/blob/master/HEAD?urlpath=%2Fvoila%2Frender%2Fbear-classifier.ipynb"
   ]
  },
  {
   "cell_type": "markdown",
   "metadata": {},
   "source": [
    "https://mybinder.org/v2/gh/apple75/fastbook/HEAD?urlpath=%2Fvoila%2Frender%2Fbear-classifier.ipynb"
   ]
  },
  {
   "cell_type": "markdown",
   "metadata": {},
   "source": [
    "https://mybinder.org/v2/gh/apple75/fastbook/HEAD?urlpath=%2Fvoila%2Frender%2Fbear-classifier.ipynb"
   ]
  }
 ],
 "metadata": {
  "language_info": {
   "name": "python"
  }
 },
 "nbformat": 4,
 "nbformat_minor": 2
}
